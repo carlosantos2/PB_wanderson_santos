{
  "nbformat": 4,
  "nbformat_minor": 0,
  "metadata": {
    "colab": {
      "provenance": []
    },
    "kernelspec": {
      "name": "python3",
      "display_name": "Python 3"
    },
    "language_info": {
      "name": "python"
    }
  },
  "cells": [
    {
      "cell_type": "markdown",
      "source": [
        "# Etapa 1 - Configuração inicial e leitura:"
      ],
      "metadata": {
        "id": "0KjG1pjw3WsT"
      }
    },
    {
      "cell_type": "code",
      "execution_count": 1,
      "metadata": {
        "colab": {
          "base_uri": "https://localhost:8080/"
        },
        "id": "Svue6RbB19dx",
        "outputId": "b6c4f8ef-0c42-4f83-b6e2-a1b8d0cdf0fb"
      },
      "outputs": [
        {
          "output_type": "stream",
          "name": "stdout",
          "text": [
            "+----------------+\n",
            "|             _c0|\n",
            "+----------------+\n",
            "|  Frances Bennet|\n",
            "|   Jamie Russell|\n",
            "|  Edward Kistler|\n",
            "|   Sheila Maurer|\n",
            "|Donald Golightly|\n",
            "+----------------+\n",
            "only showing top 5 rows\n",
            "\n"
          ]
        }
      ],
      "source": [
        "from pyspark.sql import SparkSession\n",
        "from pyspark.sql.functions import col, rand, expr\n",
        "\n",
        "spark = SparkSession \\\n",
        "    .builder \\\n",
        "    .master(\"local[*]\") \\\n",
        "    .appName(\"Exercicio Intro\") \\\n",
        "    .getOrCreate()\n",
        "\n",
        "df_nomes = spark.read.csv(\"nomes_aleatorios.txt\")\n",
        "df_nomes.show(5)"
      ]
    },
    {
      "cell_type": "markdown",
      "source": [
        "# Etapa 2 - Schema:"
      ],
      "metadata": {
        "id": "8fdbXUjH3dAw"
      }
    },
    {
      "cell_type": "code",
      "source": [
        "df_nomes = df_nomes.withColumnRenamed(\"_c0\", \"Nomes\")\n",
        "df_nomes.printSchema()\n",
        "df_nomes.show(10)"
      ],
      "metadata": {
        "colab": {
          "base_uri": "https://localhost:8080/"
        },
        "id": "eRFtGKGm3PhO",
        "outputId": "23a749aa-7285-4593-d471-c3e6ac3ef7fc"
      },
      "execution_count": 2,
      "outputs": [
        {
          "output_type": "stream",
          "name": "stdout",
          "text": [
            "root\n",
            " |-- Nomes: string (nullable = true)\n",
            "\n",
            "+-----------------+\n",
            "|            Nomes|\n",
            "+-----------------+\n",
            "|   Frances Bennet|\n",
            "|    Jamie Russell|\n",
            "|   Edward Kistler|\n",
            "|    Sheila Maurer|\n",
            "| Donald Golightly|\n",
            "|       David Gray|\n",
            "|      Joy Bennett|\n",
            "|      Paul Kriese|\n",
            "|Berniece Ornellas|\n",
            "|    Brian Farrell|\n",
            "+-----------------+\n",
            "only showing top 10 rows\n",
            "\n"
          ]
        }
      ]
    },
    {
      "cell_type": "markdown",
      "source": [
        "# Etapa 3-5 - Novas colunas:"
      ],
      "metadata": {
        "id": "aBVeJfYw3h7A"
      }
    },
    {
      "cell_type": "code",
      "source": [
        "from pyspark.sql import functions as F\n",
        "from pyspark.sql.types import *\n",
        "\n",
        "# Lista de valores possíveis para cada coluna\n",
        "escolaridade = [\"Fundamental\", \"Medio\", \"Superior\"]\n",
        "paises_america_sul = [\n",
        "    \"Argentina\", \"Bolívia\", \"Brasil\", \"Chile\", \"Colômbia\",\n",
        "    \"Equador\", \"Guiana\", \"Paraguai\", \"Peru\", \"Suriname\",\n",
        "    \"Uruguai\", \"Venezuela\", \"Guiana Francesa\"\n",
        "]\n",
        "\n",
        "# Função para criar array literal do Spark\n",
        "def create_array_literal(values):\n",
        "    return F.array([F.lit(x) for x in values])\n",
        "\n",
        "# Adicionando as novas colunas\n",
        "df_nomes = df_nomes.withColumn(\n",
        "    \"Escolaridade\",\n",
        "    F.element_at(\n",
        "        create_array_literal(escolaridade),\n",
        "        (F.rand() * F.lit(len(escolaridade))).cast(\"int\") + 1\n",
        "    )\n",
        ").withColumn(\n",
        "    \"Pais\",\n",
        "    F.element_at(\n",
        "        create_array_literal(paises_america_sul),\n",
        "        (F.rand() * F.lit(len(paises_america_sul))).cast(\"int\") + 1\n",
        "    )\n",
        ").withColumn(\n",
        "    \"AnoNascimento\",\n",
        "    ((F.rand() * (2010 - 1945 + 1)) + 1945).cast(\"int\")\n",
        ")\n",
        "\n",
        "# Mostrando os 10 primeiros resultados\n",
        "df_nomes.show(10)\n",
        "\n",
        "# Mostrando os 10 primeiros resultados apenas das novas colunas\n",
        "print(\"\\nApenas as novas colunas:\")\n",
        "df_nomes.select(\"Escolaridade\", \"Pais\", \"AnoNascimento\").show(10)"
      ],
      "metadata": {
        "colab": {
          "base_uri": "https://localhost:8080/"
        },
        "id": "CLLOF2IB3Vtl",
        "outputId": "22b64654-4193-4582-ee2e-ece3caa90670"
      },
      "execution_count": 23,
      "outputs": [
        {
          "output_type": "stream",
          "name": "stdout",
          "text": [
            "+---+------------+---------+-------------+\n",
            "| ID|Escolaridade|     Pais|AnoNascimento|\n",
            "+---+------------+---------+-------------+\n",
            "|  0|       Medio|   Brasil|         1999|\n",
            "|  1| Fundamental|  Equador|         1983|\n",
            "|  2|       Medio|    Chile|         1989|\n",
            "|  3|    Superior|  Uruguai|         1991|\n",
            "|  4| Fundamental|Venezuela|         2003|\n",
            "|  5| Fundamental| Suriname|         1963|\n",
            "|  6|       Medio| Colômbia|         2003|\n",
            "|  7|       Medio|Argentina|         1951|\n",
            "|  8|       Medio|Argentina|         1972|\n",
            "|  9| Fundamental| Paraguai|         1993|\n",
            "+---+------------+---------+-------------+\n",
            "\n",
            "\n",
            "Apenas as novas colunas:\n",
            "+------------+---------+-------------+\n",
            "|Escolaridade|     Pais|AnoNascimento|\n",
            "+------------+---------+-------------+\n",
            "|       Medio|   Brasil|         1999|\n",
            "| Fundamental|  Equador|         1983|\n",
            "|       Medio|    Chile|         1989|\n",
            "|    Superior|  Uruguai|         1991|\n",
            "| Fundamental|Venezuela|         2003|\n",
            "| Fundamental| Suriname|         1963|\n",
            "|       Medio| Colômbia|         2003|\n",
            "|       Medio|Argentina|         1951|\n",
            "|       Medio|Argentina|         1972|\n",
            "| Fundamental| Paraguai|         1993|\n",
            "+------------+---------+-------------+\n",
            "\n"
          ]
        }
      ]
    },
    {
      "cell_type": "markdown",
      "source": [
        "# Etapa 6-7 - Filtragens:"
      ],
      "metadata": {
        "id": "i-fVh3mt8t4X"
      }
    },
    {
      "cell_type": "code",
      "source": [
        "# Etapa 6 - Usando método select\n",
        "df_select = df_nomes.filter(df_nomes.AnoNascimento >= 2000)\n",
        "\n",
        "# Mostrando 10 registros do resultado usando select\n",
        "print(\"Resultado usando método select:\")\n",
        "df_select.show(10)\n",
        "\n",
        "# Etapa 7 - Usando Spark SQL\n",
        "# Criando uma view temporária\n",
        "df_nomes.createOrReplaceTempView(\"pessoas\")\n",
        "\n",
        "# Executando a mesma consulta usando SQL\n",
        "df_sql = spark.sql(\"\"\"\n",
        "    SELECT *\n",
        "    FROM pessoas\n",
        "    WHERE AnoNascimento >= 2000\n",
        "\"\"\")\n",
        "\n",
        "# Mostrando 10 registros do resultado usando SQL\n",
        "print(\"\\nResultado usando Spark SQL:\")\n",
        "df_sql.show(10)\n",
        "\n",
        "# Verificando se os resultados são equivalentes\n",
        "print(\"\\nTotal de registros usando select:\", df_select.count())\n",
        "print(\"Total de registros usando SQL:\", df_sql.count())"
      ],
      "metadata": {
        "colab": {
          "base_uri": "https://localhost:8080/"
        },
        "id": "fAZiwGPJ8vUy",
        "outputId": "0c510be0-d42e-4e28-ac06-375fb50f4ae1"
      },
      "execution_count": 28,
      "outputs": [
        {
          "output_type": "stream",
          "name": "stdout",
          "text": [
            "Resultado usando método select:\n",
            "+---+------------+---------+-------------+\n",
            "| ID|Escolaridade|     Pais|AnoNascimento|\n",
            "+---+------------+---------+-------------+\n",
            "|  4| Fundamental|Venezuela|         2003|\n",
            "|  6|       Medio| Colômbia|         2003|\n",
            "+---+------------+---------+-------------+\n",
            "\n",
            "\n",
            "Resultado usando Spark SQL:\n",
            "+---+------------+---------+-------------+\n",
            "| ID|Escolaridade|     Pais|AnoNascimento|\n",
            "+---+------------+---------+-------------+\n",
            "|  4| Fundamental|Venezuela|         2003|\n",
            "|  6|       Medio| Colômbia|         2003|\n",
            "+---+------------+---------+-------------+\n",
            "\n",
            "\n",
            "Total de registros usando select: 2\n",
            "Total de registros usando SQL: 2\n"
          ]
        }
      ]
    },
    {
      "cell_type": "markdown",
      "source": [
        "# etapas 8 e 9"
      ],
      "metadata": {
        "id": "Q9yNCvFs-TJ5"
      }
    },
    {
      "cell_type": "code",
      "source": [
        "# Etapa 8 - Usando método filter\n",
        "millennials_count = df_nomes.filter(\n",
        "    (df_nomes.AnoNascimento >= 1980) &\n",
        "    (df_nomes.AnoNascimento <= 1994)\n",
        ").count()\n",
        "\n",
        "print(\"Usando método filter:\")\n",
        "print(f\"Número de Millennials (nascidos entre 1980 e 1994): {millennials_count}\")\n",
        "\n",
        "# Mostrando alguns exemplos dos Millennials encontrados\n",
        "print(\"\\nExemplos de Millennials encontrados:\")\n",
        "df_nomes.filter(\n",
        "    (df_nomes.AnoNascimento >= 1980) &\n",
        "    (df_nomes.AnoNascimento <= 1994)\n",
        ").show(5)\n",
        "\n",
        "# Etapa 9 - Usando Spark SQL\n",
        "# Garantindo que a view temporária existe\n",
        "df_nomes.createOrReplaceTempView(\"pessoas\")\n",
        "\n",
        "# Executando a contagem via SQL\n",
        "millennials_sql = spark.sql(\"\"\"\n",
        "    SELECT COUNT(*) as total_millennials\n",
        "    FROM pessoas\n",
        "    WHERE AnoNascimento >= 1980\n",
        "    AND AnoNascimento <= 1994\n",
        "\"\"\")\n",
        "\n",
        "print(\"\\nUsando Spark SQL:\")\n",
        "print(\"Número de Millennials (nascidos entre 1980 e 1994):\")\n",
        "millennials_sql.show()\n",
        "\n",
        "# Mostrando alguns exemplos via SQL\n",
        "print(\"\\nExemplos de Millennials encontrados via SQL:\")\n",
        "spark.sql(\"\"\"\n",
        "    SELECT *\n",
        "    FROM pessoas\n",
        "    WHERE AnoNascimento >= 1980\n",
        "    AND AnoNascimento <= 1994\n",
        "    LIMIT 5\n",
        "\"\"\").show()"
      ],
      "metadata": {
        "colab": {
          "base_uri": "https://localhost:8080/"
        },
        "id": "sBT0pSTX-O0q",
        "outputId": "1bfe5c58-dec4-462d-9cc9-3ee67892a15a"
      },
      "execution_count": 29,
      "outputs": [
        {
          "output_type": "stream",
          "name": "stdout",
          "text": [
            "Usando método filter:\n",
            "Número de Millennials (nascidos entre 1980 e 1994): 4\n",
            "\n",
            "Exemplos de Millennials encontrados:\n",
            "+---+------------+--------+-------------+\n",
            "| ID|Escolaridade|    Pais|AnoNascimento|\n",
            "+---+------------+--------+-------------+\n",
            "|  1| Fundamental| Equador|         1983|\n",
            "|  2|       Medio|   Chile|         1989|\n",
            "|  3|    Superior| Uruguai|         1991|\n",
            "|  9| Fundamental|Paraguai|         1993|\n",
            "+---+------------+--------+-------------+\n",
            "\n",
            "\n",
            "Usando Spark SQL:\n",
            "Número de Millennials (nascidos entre 1980 e 1994):\n",
            "+-----------------+\n",
            "|total_millennials|\n",
            "+-----------------+\n",
            "|                4|\n",
            "+-----------------+\n",
            "\n",
            "\n",
            "Exemplos de Millennials encontrados via SQL:\n",
            "+---+------------+--------+-------------+\n",
            "| ID|Escolaridade|    Pais|AnoNascimento|\n",
            "+---+------------+--------+-------------+\n",
            "|  1| Fundamental| Equador|         1983|\n",
            "|  2|       Medio|   Chile|         1989|\n",
            "|  3|    Superior| Uruguai|         1991|\n",
            "|  9| Fundamental|Paraguai|         1993|\n",
            "+---+------------+--------+-------------+\n",
            "\n"
          ]
        }
      ]
    },
    {
      "cell_type": "markdown",
      "source": [
        "# Etapa 10 - Análise final:"
      ],
      "metadata": {
        "id": "gTfM7dM79BEG"
      }
    },
    {
      "cell_type": "code",
      "source": [
        "# Garantindo que a view temporária existe\n",
        "df_nomes.createOrReplaceTempView(\"pessoas\")\n",
        "\n",
        "# Criando a query SQL para classificar e contar as gerações por país\n",
        "df_geracoes = spark.sql(\"\"\"\n",
        "    SELECT\n",
        "        Pais,\n",
        "        CASE\n",
        "            WHEN AnoNascimento BETWEEN 1944 AND 1964 THEN 'Baby Boomers'\n",
        "            WHEN AnoNascimento BETWEEN 1965 AND 1979 THEN 'Geração X'\n",
        "            WHEN AnoNascimento BETWEEN 1980 AND 1994 THEN 'Millennials'\n",
        "            WHEN AnoNascimento BETWEEN 1995 AND 2015 THEN 'Geração Z'\n",
        "        END as Geracao,\n",
        "        COUNT(*) as Quantidade\n",
        "    FROM pessoas\n",
        "    WHERE AnoNascimento BETWEEN 1944 AND 2015\n",
        "    GROUP BY\n",
        "        Pais,\n",
        "        CASE\n",
        "            WHEN AnoNascimento BETWEEN 1944 AND 1964 THEN 'Baby Boomers'\n",
        "            WHEN AnoNascimento BETWEEN 1965 AND 1979 THEN 'Geração X'\n",
        "            WHEN AnoNascimento BETWEEN 1980 AND 1994 THEN 'Millennials'\n",
        "            WHEN AnoNascimento BETWEEN 1995 AND 2015 THEN 'Geração Z'\n",
        "        END\n",
        "    ORDER BY Pais, Geracao, Quantidade\n",
        "\"\"\")\n",
        "\n",
        "# Mostrando todos os resultados\n",
        "print(\"Distribuição de gerações por país:\")\n",
        "df_geracoes.show(100, truncate=False)  # Aumentando o limite para mostrar todas as linhas\n",
        "\n",
        "# Mostrando o total geral por geração\n",
        "print(\"\\nTotal por geração:\")\n",
        "spark.sql(\"\"\"\n",
        "    SELECT\n",
        "        CASE\n",
        "            WHEN AnoNascimento BETWEEN 1944 AND 1964 THEN 'Baby Boomers'\n",
        "            WHEN AnoNascimento BETWEEN 1965 AND 1979 THEN 'Geração X'\n",
        "            WHEN AnoNascimento BETWEEN 1980 AND 1994 THEN 'Millennials'\n",
        "            WHEN AnoNascimento BETWEEN 1995 AND 2015 THEN 'Geração Z'\n",
        "        END as Geracao,\n",
        "        COUNT(*) as Total\n",
        "    FROM pessoas\n",
        "    WHERE AnoNascimento BETWEEN 1944 AND 2015\n",
        "    GROUP BY\n",
        "        CASE\n",
        "            WHEN AnoNascimento BETWEEN 1944 AND 1964 THEN 'Baby Boomers'\n",
        "            WHEN AnoNascimento BETWEEN 1965 AND 1979 THEN 'Geração X'\n",
        "            WHEN AnoNascimento BETWEEN 1980 AND 1994 THEN 'Millennials'\n",
        "            WHEN AnoNascimento BETWEEN 1995 AND 2015 THEN 'Geração Z'\n",
        "        END\n",
        "    ORDER BY Geracao\n",
        "\"\"\").show()"
      ],
      "metadata": {
        "colab": {
          "base_uri": "https://localhost:8080/"
        },
        "id": "l41mxvCj9Dgw",
        "outputId": "e56cb1c3-3f4f-425a-ff0c-ccb3155f7df7"
      },
      "execution_count": 30,
      "outputs": [
        {
          "output_type": "stream",
          "name": "stdout",
          "text": [
            "Distribuição de gerações por país:\n",
            "+---------+------------+----------+\n",
            "|Pais     |Geracao     |Quantidade|\n",
            "+---------+------------+----------+\n",
            "|Argentina|Baby Boomers|1         |\n",
            "|Argentina|Geração X   |1         |\n",
            "|Brasil   |Geração Z   |1         |\n",
            "|Chile    |Millennials |1         |\n",
            "|Colômbia |Geração Z   |1         |\n",
            "|Equador  |Millennials |1         |\n",
            "|Paraguai |Millennials |1         |\n",
            "|Suriname |Baby Boomers|1         |\n",
            "|Uruguai  |Millennials |1         |\n",
            "|Venezuela|Geração Z   |1         |\n",
            "+---------+------------+----------+\n",
            "\n",
            "\n",
            "Total por geração:\n",
            "+------------+-----+\n",
            "|     Geracao|Total|\n",
            "+------------+-----+\n",
            "|Baby Boomers|    2|\n",
            "|   Geração X|    1|\n",
            "|   Geração Z|    3|\n",
            "| Millennials|    4|\n",
            "+------------+-----+\n",
            "\n"
          ]
        }
      ]
    }
  ]
}